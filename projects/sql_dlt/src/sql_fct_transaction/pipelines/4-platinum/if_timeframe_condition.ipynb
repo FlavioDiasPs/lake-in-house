{
 "cells": [
  {
   "cell_type": "code",
   "execution_count": null,
   "metadata": {},
   "outputs": [],
   "source": [
    "from datetime import datetime\n",
    "import pytz\n",
    "from databricks.sdk.runtime import dbutils\n",
    "\n",
    "# Check if current time is midnight UTC\n",
    "utc_now = datetime.now(pytz.UTC)\n",
    "should_run = (utc_now.hour >= 21 and utc_now.hour < 24)\n",
    "\n",
    "# Set the task value\n",
    "dbutils.jobs.taskValues.set(\"should_run\", should_run)\n"
   ]
  }
 ],
 "metadata": {
  "kernelspec": {
   "display_name": ".venv",
   "language": "python",
   "name": "python3"
  },
  "language_info": {
   "name": "python",
   "version": "3.11.11"
  }
 },
 "nbformat": 4,
 "nbformat_minor": 2
}
